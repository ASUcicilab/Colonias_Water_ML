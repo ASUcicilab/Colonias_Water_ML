{
 "cells": [
  {
   "cell_type": "markdown",
   "source": [
    "### Install gower package"
   ],
   "metadata": {
    "collapsed": false
   }
  },
  {
   "cell_type": "code",
   "execution_count": 1,
   "outputs": [
    {
     "name": "stdout",
     "output_type": "stream",
     "text": [
      "Requirement already satisfied: gower in d:\\pycharm\\pycharmprojects\\ap_test\\venv\\lib\\site-packages (0.0.5)\n",
      "Requirement already satisfied: numpy in d:\\pycharm\\pycharmprojects\\ap_test\\venv\\lib\\site-packages (from gower) (1.18.0)\n",
      "Requirement already satisfied: scipy in d:\\pycharm\\pycharmprojects\\ap_test\\venv\\lib\\site-packages (from gower) (1.6.3)\n",
      "Note: you may need to restart the kernel to use updated packages.\n"
     ]
    },
    {
     "name": "stderr",
     "output_type": "stream",
     "text": [
      "WARNING: You are using pip version 21.1.2; however, version 23.0.1 is available.\n",
      "You should consider upgrading via the 'd:\\pycharm\\pycharmprojects\\ap_test\\venv\\scripts\\python.exe -m pip install --upgrade pip' command.\n"
     ]
    }
   ],
   "source": [
    "pip install gower"
   ],
   "metadata": {
    "collapsed": false,
    "pycharm": {
     "name": "#%%\n"
    }
   }
  },
  {
   "cell_type": "markdown",
   "source": [
    "### Import  required packages"
   ],
   "metadata": {
    "collapsed": false,
    "pycharm": {
     "name": "#%% md\n"
    }
   }
  },
  {
   "cell_type": "code",
   "execution_count": 2,
   "outputs": [],
   "source": [
    "import pandas as pd\n",
    "import gower\n",
    "import numpy as np\n",
    "from sklearn.cluster import AffinityPropagation\n",
    "from sklearn import metrics"
   ],
   "metadata": {
    "collapsed": false,
    "pycharm": {
     "name": "#%%\n"
    }
   }
  },
  {
   "cell_type": "markdown",
   "source": [
    "### Select required attributes"
   ],
   "metadata": {
    "collapsed": false,
    "pycharm": {
     "name": "#%% md\n"
    }
   }
  },
  {
   "cell_type": "code",
   "execution_count": 3,
   "outputs": [],
   "source": [
    "columns = ['estimatedp', 'wtr_srcdes', 'wtr_hauled', 'priv_wells', \\\n",
    "               'wc_exists', 'wc_adeq', 'wc_hlth', 'ww_public', 'ppl_nowat_r', 'ppl_noww_r', 'ppl_yeswat_r', 'ppl_yesww_r']"
   ],
   "metadata": {
    "collapsed": false,
    "pycharm": {
     "name": "#%%\n"
    }
   }
  },
  {
   "cell_type": "markdown",
   "source": [
    "### Specify file paths"
   ],
   "metadata": {
    "collapsed": false,
    "pycharm": {
     "name": "#%% md\n"
    }
   }
  },
  {
   "cell_type": "code",
   "execution_count": 4,
   "outputs": [],
   "source": [
    "colonias_Y_path = 'dataset/colonias_Y_norm.csv'\n",
    "colonias_N_path = 'dataset/colonias_N_norm.csv'"
   ],
   "metadata": {
    "collapsed": false,
    "pycharm": {
     "name": "#%%\n"
    }
   }
  },
  {
   "cell_type": "markdown",
   "source": [
    "### For Colonias with public water services"
   ],
   "metadata": {
    "collapsed": false
   }
  },
  {
   "cell_type": "code",
   "execution_count": null,
   "outputs": [],
   "source": [
    "# 1. Read corresponding csv file\n",
    "df = pd.read_csv(colonias_Y_path)[columns]\n",
    "df.head()"
   ],
   "metadata": {
    "collapsed": false,
    "pycharm": {
     "name": "#%%\n"
    }
   }
  },
  {
   "cell_type": "code",
   "execution_count": null,
   "outputs": [],
   "source": [
    "# 2. Select records in which population rate is not larger than 1\n",
    "selected_df = df[(df['ppl_nowat_r'] <= 1) & (df['ppl_noww_r'] <= 1)\n",
    "                 & (df['ppl_yeswat_r'] <= 1) & (df['ppl_yesww_r'] <= 1)]"
   ],
   "metadata": {
    "collapsed": false,
    "pycharm": {
     "name": "#%%\n"
    }
   }
  },
  {
   "cell_type": "markdown",
   "source": [
    "#### Construct Similarity Metric"
   ],
   "metadata": {
    "collapsed": false
   }
  },
  {
   "cell_type": "code",
   "execution_count": null,
   "outputs": [],
   "source": [
    "# use gower distance to construct similarity metric\n",
    "similarity_metric = gower.gower_matrix(selected_df)\n",
    "print(similarity_metric)"
   ],
   "metadata": {
    "collapsed": false,
    "pycharm": {
     "name": "#%%\n"
    }
   }
  },
  {
   "cell_type": "code",
   "execution_count": null,
   "outputs": [],
   "source": [
    "# Select median value in the similarity_metrix as the preference value (defined in Affinity Propagation algorithm)\n",
    "preference = np.median(similarity_metric)\n",
    "print(preference)"
   ],
   "metadata": {
    "collapsed": false,
    "pycharm": {
     "name": "#%%\n"
    }
   }
  },
  {
   "cell_type": "code",
   "execution_count": null,
   "outputs": [],
   "source": [
    "# Replace diagonal value with the preference value\n",
    "np.fill_diagonal(similarity_metric, preference)\n",
    "# Multiply with -1\n",
    "similarity_metric *= -1\n",
    "print(similarity_metric)"
   ],
   "metadata": {
    "collapsed": false,
    "pycharm": {
     "name": "#%%\n"
    }
   }
  },
  {
   "cell_type": "markdown",
   "source": [
    "#### Applying Affinity Propagation and compare clustering results under different damping factors and iterations"
   ],
   "metadata": {
    "collapsed": false
   }
  },
  {
   "cell_type": "code",
   "execution_count": null,
   "outputs": [],
   "source": [
    "dampings = [0.5, 0.6, 0.7, 0.8, 0.9]\n",
    "iterations = range(200, 1050, 50)"
   ],
   "metadata": {
    "collapsed": false,
    "pycharm": {
     "name": "#%%\n"
    }
   }
  },
  {
   "cell_type": "code",
   "execution_count": null,
   "outputs": [],
   "source": [
    "for damping in dampings:\n",
    "    for i in iterations:\n",
    "        # Apply calculated similarity_metric to AP algorithm\n",
    "        af = AffinityPropagation(affinity='precomputed', damping=damping, max_iter=i).fit(similarity_metric)\n",
    "        # Get the number of clusters\n",
    "        n_clusters = len(np.unique(af.labels_))\n",
    "        # Get corresponding labels\n",
    "        cluster_labels = af.labels_\n",
    "        # Calculate silhouette score\n",
    "        silhouette_avg = metrics.silhouette_score(similarity_metric, cluster_labels)\n",
    "        print('Damping=', damping, ', iteration=', i, ' n_clusters=', n_clusters,\n",
    "              'The average SScore=', silhouette_avg)"
   ],
   "metadata": {
    "collapsed": false,
    "pycharm": {
     "name": "#%%\n"
    }
   }
  },
  {
   "cell_type": "markdown",
   "source": [
    "### For Colonias without public water services"
   ],
   "metadata": {
    "collapsed": false,
    "pycharm": {
     "name": "#%% md\n"
    }
   }
  },
  {
   "cell_type": "code",
   "execution_count": null,
   "outputs": [],
   "source": [
    "# 1. Read corresponding csv file\n",
    "df = pd.read_csv(colonias_N_path)[columns]\n",
    "df.head()"
   ],
   "metadata": {
    "collapsed": false,
    "pycharm": {
     "name": "#%%\n"
    }
   }
  },
  {
   "cell_type": "code",
   "execution_count": null,
   "outputs": [],
   "source": [
    "# 2. Select records in which population rate is not larger than 1\n",
    "selected_df = df[(df['ppl_nowat_r'] <= 1) & (df['ppl_noww_r'] <= 1)\n",
    "                 & (df['ppl_yeswat_r'] <= 1) & (df['ppl_yesww_r'] <= 1)]"
   ],
   "metadata": {
    "collapsed": false,
    "pycharm": {
     "name": "#%%\n"
    }
   }
  },
  {
   "cell_type": "markdown",
   "source": [
    "#### Construct Similarity Metric"
   ],
   "metadata": {
    "collapsed": false
   }
  },
  {
   "cell_type": "code",
   "execution_count": null,
   "outputs": [],
   "source": [
    "# use gower distance to construct similarity metric\n",
    "similarity_metric = gower.gower_matrix(selected_df)\n",
    "print(similarity_metric)"
   ],
   "metadata": {
    "collapsed": false,
    "pycharm": {
     "name": "#%%\n"
    }
   }
  },
  {
   "cell_type": "code",
   "execution_count": null,
   "outputs": [],
   "source": [
    "# Select median value in the similarity_metrix as the preference value (defined in Affinity Propagation algorithm)\n",
    "preference = np.median(similarity_metric)\n",
    "print(preference)"
   ],
   "metadata": {
    "collapsed": false,
    "pycharm": {
     "name": "#%%\n"
    }
   }
  },
  {
   "cell_type": "code",
   "execution_count": null,
   "outputs": [],
   "source": [
    "# Replace diagonal value with the preference value\n",
    "np.fill_diagonal(similarity_metric, preference)\n",
    "# Multiply with -1\n",
    "similarity_metric *= -1\n",
    "print(similarity_metric)"
   ],
   "metadata": {
    "collapsed": false,
    "pycharm": {
     "name": "#%%\n"
    }
   }
  },
  {
   "cell_type": "markdown",
   "source": [
    "#### Applying Affinity Propagation and compare clustering results under different damping factors and iterations"
   ],
   "metadata": {
    "collapsed": false
   }
  },
  {
   "cell_type": "code",
   "execution_count": null,
   "outputs": [],
   "source": [
    "dampings = [0.5, 0.6, 0.7, 0.8, 0.9]\n",
    "iterations = range(200, 1050, 50)"
   ],
   "metadata": {
    "collapsed": false,
    "pycharm": {
     "name": "#%%\n"
    }
   }
  },
  {
   "cell_type": "code",
   "execution_count": null,
   "outputs": [],
   "source": [
    "for damping in dampings:\n",
    "    for i in iterations:\n",
    "        # Apply calculated similarity_metric to AP algorithm\n",
    "        af = AffinityPropagation(affinity='precomputed', damping=damping, max_iter=i).fit(similarity_metric)\n",
    "        # Get the number of clusters\n",
    "        n_clusters = len(np.unique(af.labels_))\n",
    "        # Get corresponding labels\n",
    "        cluster_labels = af.labels_\n",
    "        # Calculate silhouette score\n",
    "        silhouette_avg = metrics.silhouette_score(similarity_metric, cluster_labels)\n",
    "        print('Damping=', damping, ', iteration=', i, ' n_clusters=', n_clusters,\n",
    "              'The average SScore=', silhouette_avg)"
   ],
   "metadata": {
    "collapsed": false,
    "pycharm": {
     "name": "#%%\n"
    }
   }
  }
 ],
 "metadata": {
  "kernelspec": {
   "display_name": "Python 3",
   "language": "python",
   "name": "python3"
  },
  "language_info": {
   "codemirror_mode": {
    "name": "ipython",
    "version": 2
   },
   "file_extension": ".py",
   "mimetype": "text/x-python",
   "name": "python",
   "nbconvert_exporter": "python",
   "pygments_lexer": "ipython2",
   "version": "2.7.6"
  }
 },
 "nbformat": 4,
 "nbformat_minor": 0
}