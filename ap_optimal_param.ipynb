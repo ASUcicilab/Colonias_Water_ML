{
 "cells": [
  {
   "cell_type": "markdown",
   "metadata": {},
   "source": [
    "### Install gower package"
   ]
  },
  {
   "cell_type": "code",
   "execution_count": 2,
   "metadata": {},
   "outputs": [
    {
     "name": "stdout",
     "output_type": "stream",
     "text": [
      "Collecting gower\n",
      "  Downloading gower-0.1.2-py3-none-any.whl (5.2 kB)\n",
      "Requirement already satisfied: numpy in /Users/zhininggu/opt/anaconda3/lib/python3.9/site-packages (from gower) (1.23.1)\n",
      "Requirement already satisfied: scipy in /Users/zhininggu/opt/anaconda3/lib/python3.9/site-packages (from gower) (1.7.1)\n",
      "Collecting numpy\n",
      "  Downloading numpy-1.22.4-cp39-cp39-macosx_10_15_x86_64.whl (17.7 MB)\n",
      "\u001b[2K     \u001b[90m━━━━━━━━━━━━━━━━━━━━━━━━━━━━━━━━━━━━━━━\u001b[0m \u001b[32m17.7/17.7 MB\u001b[0m \u001b[31m625.0 kB/s\u001b[0m eta \u001b[36m0:00:00\u001b[0m00:01\u001b[0m00:01\u001b[0m\n",
      "\u001b[?25hInstalling collected packages: numpy, gower\n",
      "  Attempting uninstall: numpy\n",
      "    Found existing installation: numpy 1.23.1\n",
      "    Uninstalling numpy-1.23.1:\n",
      "      Successfully uninstalled numpy-1.23.1\n",
      "\u001b[31mERROR: pip's dependency resolver does not currently take into account all the packages that are installed. This behaviour is the source of the following dependency conflicts.\n",
      "daal4py 2021.3.0 requires daal==2021.2.3, which is not installed.\u001b[0m\u001b[31m\n",
      "\u001b[0mSuccessfully installed gower-0.1.2 numpy-1.22.4\n",
      "Note: you may need to restart the kernel to use updated packages.\n"
     ]
    }
   ],
   "source": [
    "pip install gower"
   ]
  },
  {
   "cell_type": "markdown",
   "metadata": {},
   "source": [
    "### Import required packages"
   ]
  },
  {
   "cell_type": "code",
   "execution_count": 3,
   "metadata": {},
   "outputs": [
    {
     "name": "stderr",
     "output_type": "stream",
     "text": [
      "/Users/zhininggu/opt/anaconda3/lib/python3.9/site-packages/scipy/__init__.py:146: UserWarning: A NumPy version >=1.16.5 and <1.23.0 is required for this version of SciPy (detected version 1.23.1\n",
      "  warnings.warn(f\"A NumPy version >={np_minversion} and <{np_maxversion}\"\n"
     ]
    }
   ],
   "source": [
    "import pandas as pd\n",
    "import gower\n",
    "import numpy as np\n",
    "from sklearn.cluster import AffinityPropagation\n",
    "from sklearn import metrics"
   ]
  },
  {
   "cell_type": "markdown",
   "metadata": {},
   "source": [
    "### Select required attributes"
   ]
  },
  {
   "cell_type": "code",
   "execution_count": 5,
   "metadata": {},
   "outputs": [],
   "source": [
    "columns = ['estimatedp', 'wtr_srcdes', 'wtr_hauled', 'priv_wells', \\\n",
    "               'wc_exists', 'wc_adeq', 'wc_hlth', 'ww_public', 'ppl_nowat_r', 'ppl_noww_r', 'ppl_yeswat_r', 'ppl_yesww_r']"
   ]
  },
  {
   "cell_type": "markdown",
   "metadata": {},
   "source": [
    "### Specifiy file paths"
   ]
  },
  {
   "cell_type": "code",
   "execution_count": 6,
   "metadata": {},
   "outputs": [],
   "source": [
    "colonias_Y_path = 'dataset/colonias_Y_norm.csv'\n",
    "colonias_N_path = 'dataset/colonias_N_norm.csv'"
   ]
  },
  {
   "cell_type": "markdown",
   "metadata": {},
   "source": [
    "### For colonias with public water services"
   ]
  },
  {
   "cell_type": "code",
   "execution_count": 8,
   "metadata": {
    "collapsed": false,
    "jupyter": {
     "outputs_hidden": false
    },
    "pycharm": {
     "name": "#%%\n"
    }
   },
   "outputs": [
    {
     "data": {
      "text/html": [
       "<div>\n",
       "<style scoped>\n",
       "    .dataframe tbody tr th:only-of-type {\n",
       "        vertical-align: middle;\n",
       "    }\n",
       "\n",
       "    .dataframe tbody tr th {\n",
       "        vertical-align: top;\n",
       "    }\n",
       "\n",
       "    .dataframe thead th {\n",
       "        text-align: right;\n",
       "    }\n",
       "</style>\n",
       "<table border=\"1\" class=\"dataframe\">\n",
       "  <thead>\n",
       "    <tr style=\"text-align: right;\">\n",
       "      <th></th>\n",
       "      <th>estimatedp</th>\n",
       "      <th>wtr_srcdes</th>\n",
       "      <th>wtr_hauled</th>\n",
       "      <th>priv_wells</th>\n",
       "      <th>wc_exists</th>\n",
       "      <th>wc_adeq</th>\n",
       "      <th>wc_hlth</th>\n",
       "      <th>ww_public</th>\n",
       "      <th>ppl_nowat_r</th>\n",
       "      <th>ppl_noww_r</th>\n",
       "      <th>ppl_yeswat_r</th>\n",
       "      <th>ppl_yesww_r</th>\n",
       "    </tr>\n",
       "  </thead>\n",
       "  <tbody>\n",
       "    <tr>\n",
       "      <th>0</th>\n",
       "      <td>157</td>\n",
       "      <td>Public Water System</td>\n",
       "      <td>N</td>\n",
       "      <td>N</td>\n",
       "      <td>Y</td>\n",
       "      <td>Y</td>\n",
       "      <td>N</td>\n",
       "      <td>N</td>\n",
       "      <td>0.0</td>\n",
       "      <td>1.0</td>\n",
       "      <td>1.0</td>\n",
       "      <td>0.0</td>\n",
       "    </tr>\n",
       "    <tr>\n",
       "      <th>1</th>\n",
       "      <td>72</td>\n",
       "      <td>Public Water System</td>\n",
       "      <td>N</td>\n",
       "      <td>N</td>\n",
       "      <td>Y</td>\n",
       "      <td>Y</td>\n",
       "      <td>N</td>\n",
       "      <td>N</td>\n",
       "      <td>0.0</td>\n",
       "      <td>1.0</td>\n",
       "      <td>1.0</td>\n",
       "      <td>0.0</td>\n",
       "    </tr>\n",
       "    <tr>\n",
       "      <th>2</th>\n",
       "      <td>147</td>\n",
       "      <td>Public Water System</td>\n",
       "      <td>N</td>\n",
       "      <td>N</td>\n",
       "      <td>Y</td>\n",
       "      <td>Y</td>\n",
       "      <td>N</td>\n",
       "      <td>N</td>\n",
       "      <td>0.0</td>\n",
       "      <td>1.0</td>\n",
       "      <td>1.0</td>\n",
       "      <td>0.0</td>\n",
       "    </tr>\n",
       "    <tr>\n",
       "      <th>3</th>\n",
       "      <td>86</td>\n",
       "      <td>Public Water System</td>\n",
       "      <td>N</td>\n",
       "      <td>N</td>\n",
       "      <td>Y</td>\n",
       "      <td>Y</td>\n",
       "      <td>N</td>\n",
       "      <td>N</td>\n",
       "      <td>0.0</td>\n",
       "      <td>1.0</td>\n",
       "      <td>1.0</td>\n",
       "      <td>0.0</td>\n",
       "    </tr>\n",
       "    <tr>\n",
       "      <th>4</th>\n",
       "      <td>41</td>\n",
       "      <td>Public Water System</td>\n",
       "      <td>N</td>\n",
       "      <td>N</td>\n",
       "      <td>Y</td>\n",
       "      <td>Y</td>\n",
       "      <td>N</td>\n",
       "      <td>N</td>\n",
       "      <td>0.0</td>\n",
       "      <td>1.0</td>\n",
       "      <td>1.0</td>\n",
       "      <td>0.0</td>\n",
       "    </tr>\n",
       "  </tbody>\n",
       "</table>\n",
       "</div>"
      ],
      "text/plain": [
       "   estimatedp           wtr_srcdes wtr_hauled priv_wells wc_exists wc_adeq  \\\n",
       "0         157  Public Water System          N          N         Y       Y   \n",
       "1          72  Public Water System          N          N         Y       Y   \n",
       "2         147  Public Water System          N          N         Y       Y   \n",
       "3          86  Public Water System          N          N         Y       Y   \n",
       "4          41  Public Water System          N          N         Y       Y   \n",
       "\n",
       "  wc_hlth ww_public  ppl_nowat_r  ppl_noww_r  ppl_yeswat_r  ppl_yesww_r  \n",
       "0       N         N          0.0         1.0           1.0          0.0  \n",
       "1       N         N          0.0         1.0           1.0          0.0  \n",
       "2       N         N          0.0         1.0           1.0          0.0  \n",
       "3       N         N          0.0         1.0           1.0          0.0  \n",
       "4       N         N          0.0         1.0           1.0          0.0  "
      ]
     },
     "execution_count": 8,
     "metadata": {},
     "output_type": "execute_result"
    }
   ],
   "source": [
    "# Read corresponding csv file\n",
    "df = pd.read_csv(colonias_Y_path)[columns]\n",
    "df.head()"
   ]
  },
  {
   "cell_type": "code",
   "execution_count": 9,
   "metadata": {},
   "outputs": [],
   "source": [
    "# Select records in which population rate is not larger than 1 \n",
    "selected_df = df[(df['ppl_nowat_r'] <= 1) & (df['ppl_noww_r'] <= 1)\n",
    "                 & (df['ppl_yeswat_r'] <= 1) & (df['ppl_yesww_r'] <= 1)]"
   ]
  },
  {
   "cell_type": "markdown",
   "metadata": {},
   "source": [
    "### Construct Similarity Metric"
   ]
  },
  {
   "cell_type": "code",
   "execution_count": 11,
   "metadata": {},
   "outputs": [
    {
     "name": "stdout",
     "output_type": "stream",
     "text": [
      "[[0.0000000e+00 2.3611111e-04 2.7777778e-05 ... 7.7777775e-05\n",
      "  2.5289723e-01 3.3532500e-01]\n",
      " [2.3611111e-04 0.0000000e+00 2.0833334e-04 ... 1.5833334e-04\n",
      "  2.5313333e-01 3.3556110e-01]\n",
      " [2.7777778e-05 2.0833334e-04 0.0000000e+00 ... 4.9999999e-05\n",
      "  2.5292501e-01 3.3535278e-01]\n",
      " ...\n",
      " [7.7777775e-05 1.5833334e-04 4.9999999e-05 ... 0.0000000e+00\n",
      "  2.5297499e-01 3.3540279e-01]\n",
      " [2.5289723e-01 2.5313333e-01 2.5292501e-01 ... 2.5297499e-01\n",
      "  0.0000000e+00 8.4238887e-02]\n",
      " [3.3532500e-01 3.3556110e-01 3.3535278e-01 ... 3.3540279e-01\n",
      "  8.4238887e-02 0.0000000e+00]]\n"
     ]
    }
   ],
   "source": [
    "# Use gower distance to construct similarity metric\n",
    "similarity_metric = gower.gower_matrix(selected_df)\n",
    "print(similarity_metric)"
   ]
  },
  {
   "cell_type": "code",
   "execution_count": 16,
   "metadata": {},
   "outputs": [
    {
     "name": "stdout",
     "output_type": "stream",
     "text": [
      "-0.25000554\n"
     ]
    }
   ],
   "source": [
    "# Select median value in the similarity_metric as the preference value (defined in Affinity Propagation algorithm)\n",
    "preference = np.median(similarity_metric)\n",
    "print(preference)"
   ]
  },
  {
   "cell_type": "code",
   "execution_count": 17,
   "metadata": {},
   "outputs": [
    {
     "name": "stdout",
     "output_type": "stream",
     "text": [
      "[[2.5000554e-01 2.3611111e-04 2.7777778e-05 ... 7.7777775e-05\n",
      "  2.5289723e-01 3.3532500e-01]\n",
      " [2.3611111e-04 2.5000554e-01 2.0833334e-04 ... 1.5833334e-04\n",
      "  2.5313333e-01 3.3556110e-01]\n",
      " [2.7777778e-05 2.0833334e-04 2.5000554e-01 ... 4.9999999e-05\n",
      "  2.5292501e-01 3.3535278e-01]\n",
      " ...\n",
      " [7.7777775e-05 1.5833334e-04 4.9999999e-05 ... 2.5000554e-01\n",
      "  2.5297499e-01 3.3540279e-01]\n",
      " [2.5289723e-01 2.5313333e-01 2.5292501e-01 ... 2.5297499e-01\n",
      "  2.5000554e-01 8.4238887e-02]\n",
      " [3.3532500e-01 3.3556110e-01 3.3535278e-01 ... 3.3540279e-01\n",
      "  8.4238887e-02 2.5000554e-01]]\n"
     ]
    }
   ],
   "source": [
    "# Replace diagonal value with the preference value\n",
    "np.fill_diagonal(similarity_metric, preference)\n",
    "# Multiply with -1 \n",
    "similarity_metric *= -1\n",
    "print(similarity_metric)"
   ]
  },
  {
   "cell_type": "markdown",
   "metadata": {
    "tags": []
   },
   "source": [
    "### Apply Affinity Propagation and compare clustering results under different damping factors and iterations"
   ]
  },
  {
   "cell_type": "code",
   "execution_count": 18,
   "metadata": {},
   "outputs": [],
   "source": [
    "dampings = [0.5, 0.6, 0.7, 0.8, 0.9]\n",
    "iterations = range(200, 1050, 50)"
   ]
  },
  {
   "cell_type": "code",
   "execution_count": 20,
   "metadata": {
    "pycharm": {
     "name": "#%%\n"
    },
    "tags": []
   },
   "outputs": [
    {
     "name": "stdout",
     "output_type": "stream",
     "text": [
      "Damping= 0.5 , iteration= 200  n_clusters= 5 The average SScore= 0.561317\n",
      "Damping= 0.5 , iteration= 250  n_clusters= 5 The average SScore= 0.561317\n",
      "Damping= 0.5 , iteration= 300  n_clusters= 5 The average SScore= 0.561317\n",
      "Damping= 0.5 , iteration= 350  n_clusters= 5 The average SScore= 0.561317\n",
      "Damping= 0.5 , iteration= 400  n_clusters= 5 The average SScore= 0.561317\n",
      "Damping= 0.5 , iteration= 450  n_clusters= 5 The average SScore= 0.561317\n",
      "Damping= 0.5 , iteration= 500  n_clusters= 5 The average SScore= 0.561317\n",
      "Damping= 0.5 , iteration= 550  n_clusters= 5 The average SScore= 0.561317\n",
      "Damping= 0.5 , iteration= 600  n_clusters= 5 The average SScore= 0.561317\n",
      "Damping= 0.5 , iteration= 650  n_clusters= 5 The average SScore= 0.561317\n",
      "Damping= 0.5 , iteration= 700  n_clusters= 5 The average SScore= 0.561317\n",
      "Damping= 0.5 , iteration= 750  n_clusters= 5 The average SScore= 0.561317\n",
      "Damping= 0.5 , iteration= 800  n_clusters= 5 The average SScore= 0.561317\n",
      "Damping= 0.5 , iteration= 850  n_clusters= 5 The average SScore= 0.561317\n",
      "Damping= 0.5 , iteration= 900  n_clusters= 5 The average SScore= 0.561317\n",
      "Damping= 0.5 , iteration= 950  n_clusters= 5 The average SScore= 0.561317\n",
      "Damping= 0.5 , iteration= 1000  n_clusters= 5 The average SScore= 0.561317\n",
      "Damping= 0.6 , iteration= 200  n_clusters= 5 The average SScore= 0.561317\n",
      "Damping= 0.6 , iteration= 250  n_clusters= 5 The average SScore= 0.561317\n",
      "Damping= 0.6 , iteration= 300  n_clusters= 5 The average SScore= 0.561317\n",
      "Damping= 0.6 , iteration= 350  n_clusters= 5 The average SScore= 0.561317\n",
      "Damping= 0.6 , iteration= 400  n_clusters= 5 The average SScore= 0.561317\n",
      "Damping= 0.6 , iteration= 450  n_clusters= 5 The average SScore= 0.561317\n",
      "Damping= 0.6 , iteration= 500  n_clusters= 5 The average SScore= 0.561317\n",
      "Damping= 0.6 , iteration= 550  n_clusters= 5 The average SScore= 0.561317\n",
      "Damping= 0.6 , iteration= 600  n_clusters= 5 The average SScore= 0.561317\n",
      "Damping= 0.6 , iteration= 650  n_clusters= 5 The average SScore= 0.561317\n",
      "Damping= 0.6 , iteration= 700  n_clusters= 5 The average SScore= 0.561317\n",
      "Damping= 0.6 , iteration= 750  n_clusters= 5 The average SScore= 0.561317\n",
      "Damping= 0.6 , iteration= 800  n_clusters= 5 The average SScore= 0.561317\n",
      "Damping= 0.6 , iteration= 850  n_clusters= 5 The average SScore= 0.561317\n",
      "Damping= 0.6 , iteration= 900  n_clusters= 5 The average SScore= 0.561317\n",
      "Damping= 0.6 , iteration= 950  n_clusters= 5 The average SScore= 0.561317\n",
      "Damping= 0.6 , iteration= 1000  n_clusters= 5 The average SScore= 0.561317\n",
      "Damping= 0.7 , iteration= 200  n_clusters= 5 The average SScore= 0.561317\n",
      "Damping= 0.7 , iteration= 250  n_clusters= 5 The average SScore= 0.561317\n",
      "Damping= 0.7 , iteration= 300  n_clusters= 5 The average SScore= 0.561317\n",
      "Damping= 0.7 , iteration= 350  n_clusters= 5 The average SScore= 0.561317\n",
      "Damping= 0.7 , iteration= 400  n_clusters= 5 The average SScore= 0.561317\n",
      "Damping= 0.7 , iteration= 450  n_clusters= 5 The average SScore= 0.561317\n",
      "Damping= 0.7 , iteration= 500  n_clusters= 5 The average SScore= 0.561317\n",
      "Damping= 0.7 , iteration= 550  n_clusters= 5 The average SScore= 0.561317\n",
      "Damping= 0.7 , iteration= 600  n_clusters= 5 The average SScore= 0.561317\n",
      "Damping= 0.7 , iteration= 650  n_clusters= 5 The average SScore= 0.561317\n",
      "Damping= 0.7 , iteration= 700  n_clusters= 5 The average SScore= 0.561317\n",
      "Damping= 0.7 , iteration= 750  n_clusters= 5 The average SScore= 0.561317\n",
      "Damping= 0.7 , iteration= 800  n_clusters= 5 The average SScore= 0.561317\n",
      "Damping= 0.7 , iteration= 850  n_clusters= 5 The average SScore= 0.561317\n",
      "Damping= 0.7 , iteration= 900  n_clusters= 5 The average SScore= 0.561317\n",
      "Damping= 0.7 , iteration= 950  n_clusters= 5 The average SScore= 0.561317\n",
      "Damping= 0.7 , iteration= 1000  n_clusters= 5 The average SScore= 0.561317\n",
      "Damping= 0.8 , iteration= 200  n_clusters= 5 The average SScore= 0.561317\n",
      "Damping= 0.8 , iteration= 250  n_clusters= 5 The average SScore= 0.561317\n",
      "Damping= 0.8 , iteration= 300  n_clusters= 5 The average SScore= 0.561317\n",
      "Damping= 0.8 , iteration= 350  n_clusters= 5 The average SScore= 0.561317\n",
      "Damping= 0.8 , iteration= 400  n_clusters= 5 The average SScore= 0.561317\n",
      "Damping= 0.8 , iteration= 450  n_clusters= 5 The average SScore= 0.561317\n",
      "Damping= 0.8 , iteration= 500  n_clusters= 5 The average SScore= 0.561317\n",
      "Damping= 0.8 , iteration= 550  n_clusters= 5 The average SScore= 0.561317\n",
      "Damping= 0.8 , iteration= 600  n_clusters= 5 The average SScore= 0.561317\n",
      "Damping= 0.8 , iteration= 650  n_clusters= 5 The average SScore= 0.561317\n",
      "Damping= 0.8 , iteration= 700  n_clusters= 5 The average SScore= 0.561317\n",
      "Damping= 0.8 , iteration= 750  n_clusters= 5 The average SScore= 0.561317\n",
      "Damping= 0.8 , iteration= 800  n_clusters= 5 The average SScore= 0.561317\n",
      "Damping= 0.8 , iteration= 850  n_clusters= 5 The average SScore= 0.561317\n",
      "Damping= 0.8 , iteration= 900  n_clusters= 5 The average SScore= 0.561317\n",
      "Damping= 0.8 , iteration= 950  n_clusters= 5 The average SScore= 0.561317\n",
      "Damping= 0.8 , iteration= 1000  n_clusters= 5 The average SScore= 0.561317\n",
      "Damping= 0.9 , iteration= 200  n_clusters= 5 The average SScore= 0.561317\n",
      "Damping= 0.9 , iteration= 250  n_clusters= 5 The average SScore= 0.561317\n",
      "Damping= 0.9 , iteration= 300  n_clusters= 5 The average SScore= 0.561317\n",
      "Damping= 0.9 , iteration= 350  n_clusters= 5 The average SScore= 0.561317\n",
      "Damping= 0.9 , iteration= 400  n_clusters= 5 The average SScore= 0.561317\n",
      "Damping= 0.9 , iteration= 450  n_clusters= 5 The average SScore= 0.561317\n",
      "Damping= 0.9 , iteration= 500  n_clusters= 5 The average SScore= 0.561317\n",
      "Damping= 0.9 , iteration= 550  n_clusters= 5 The average SScore= 0.561317\n",
      "Damping= 0.9 , iteration= 600  n_clusters= 5 The average SScore= 0.561317\n",
      "Damping= 0.9 , iteration= 650  n_clusters= 5 The average SScore= 0.561317\n",
      "Damping= 0.9 , iteration= 700  n_clusters= 5 The average SScore= 0.561317\n",
      "Damping= 0.9 , iteration= 750  n_clusters= 5 The average SScore= 0.561317\n",
      "Damping= 0.9 , iteration= 800  n_clusters= 5 The average SScore= 0.561317\n",
      "Damping= 0.9 , iteration= 850  n_clusters= 5 The average SScore= 0.561317\n",
      "Damping= 0.9 , iteration= 900  n_clusters= 5 The average SScore= 0.561317\n",
      "Damping= 0.9 , iteration= 950  n_clusters= 5 The average SScore= 0.561317\n",
      "Damping= 0.9 , iteration= 1000  n_clusters= 5 The average SScore= 0.561317\n"
     ]
    }
   ],
   "source": [
    "for damping in dampings:\n",
    "    for i in iterations:\n",
    "        af = AffinityPropagation(affinity='precomputed', damping=damping, max_iter=i).fit(similarity_metric) # Apply calculated similarity_metric to AP algorithm\n",
    "        # Get the number of clusters\n",
    "        n_clusters = len(np.unique(af.labels_)) \n",
    "        # Get corresponding labels\n",
    "        cluster_labels = af.labels_ \n",
    "        # Calculate silhouette score\n",
    "        silhouette_avg = metrics.silhouette_score(similarity_metric, cluster_labels) \n",
    "        print('Damping=', damping, ', iteration=', i, ' n_clusters=', n_clusters,\n",
    "              'The average SScore=', silhouette_avg)"
   ]
  },
  {
   "cell_type": "code",
   "execution_count": null,
   "metadata": {
    "collapsed": false,
    "jupyter": {
     "outputs_hidden": false
    },
    "pycharm": {
     "name": "#%%\n"
    }
   },
   "outputs": [],
   "source": []
  }
 ],
 "metadata": {
  "kernelspec": {
   "display_name": "Python 3 (ipykernel)",
   "language": "python",
   "name": "python3"
  },
  "language_info": {
   "codemirror_mode": {
    "name": "ipython",
    "version": 3
   },
   "file_extension": ".py",
   "mimetype": "text/x-python",
   "name": "python",
   "nbconvert_exporter": "python",
   "pygments_lexer": "ipython3",
   "version": "3.9.7"
  }
 },
 "nbformat": 4,
 "nbformat_minor": 4
}
