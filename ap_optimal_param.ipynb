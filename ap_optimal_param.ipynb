{
 "cells": [
  {
   "cell_type": "code",
   "execution_count": 1,
   "metadata": {},
   "outputs": [],
   "source": [
    "import pandas as pd\n",
    "import gower\n",
    "import numpy as np\n",
    "from sklearn.cluster import AffinityPropagation\n",
    "from sklearn import metrics\n",
    "\n",
    "columns = ['estimatedp', 'wtr_srcdes', 'wtr_hauled', 'priv_wells', \\\n",
    "               'wc_exists', 'wc_adeq', 'wc_hlth', 'ww_public', 'ppl_nowat_r', 'ppl_noww_r', 'ppl_yeswat_r', 'ppl_yesww_r']\n",
    "\n",
    "colonias_Y_path = 'dataset/colonias_Y_norm.csv'\n",
    "colonias_N_path = 'dataset/colonias_N_norm.csv'"
   ]
  },
  {
   "cell_type": "code",
   "execution_count": null,
   "metadata": {
    "collapsed": false,
    "jupyter": {
     "outputs_hidden": false
    },
    "pycharm": {
     "name": "#%%\n"
    }
   },
   "outputs": [],
   "source": [
    "df = pd.read_csv(colonias_Y_path)[columns]\n",
    "selected_df = df[(df['ppl_nowat_r'] <= 1) & (df['ppl_noww_r'] <= 1)\n",
    "                 & (df['ppl_yeswat_r'] <= 1) & (df['ppl_yesww_r'] <= 1)]\n",
    "\n",
    "similarity_metric = gower.gower_matrix(selected_df)\n",
    "preference = np.median(similarity_metric)\n",
    "np.fill_diagonal(similarity_metric, preference)\n",
    "similarity_metric *= -1"
   ]
  },
  {
   "cell_type": "code",
   "execution_count": null,
   "metadata": {
    "pycharm": {
     "name": "#%%\n"
    },
    "tags": []
   },
   "outputs": [],
   "source": [
    "dampings = [0.5, 0.6, 0.7, 0.8, 0.9]\n",
    "iterations = range(200, 1050, 50)\n",
    "for damping in dampings:\n",
    "    for i in iterations:\n",
    "        af = AffinityPropagation(affinity='precomputed', damping=damping, max_iter=i).fit(similarity_metric)\n",
    "        n_clusters = len(np.unique(af.labels_))\n",
    "        cluster_labels = af.labels_\n",
    "        silhouette_avg = metrics.silhouette_score(similarity_metric, cluster_labels)\n",
    "        print('Damping=', damping, ', iteration=', i, ' n_clusters=', n_clusters,\n",
    "              'The average SScore=', silhouette_avg)"
   ]
  },
  {
   "cell_type": "code",
   "execution_count": null,
   "metadata": {
    "collapsed": false,
    "jupyter": {
     "outputs_hidden": false
    },
    "pycharm": {
     "name": "#%%\n"
    }
   },
   "outputs": [],
   "source": []
  }
 ],
 "metadata": {
  "kernelspec": {
   "display_name": "Python 3",
   "language": "python",
   "name": "python3"
  },
  "language_info": {
   "codemirror_mode": {
    "name": "ipython",
    "version": 3
   },
   "file_extension": ".py",
   "mimetype": "text/x-python",
   "name": "python",
   "nbconvert_exporter": "python",
   "pygments_lexer": "ipython3",
   "version": "3.7.4"
  }
 },
 "nbformat": 4,
 "nbformat_minor": 4
}
