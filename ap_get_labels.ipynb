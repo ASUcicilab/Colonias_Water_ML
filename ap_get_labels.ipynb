{
 "cells": [
  {
   "cell_type": "markdown",
   "metadata": {
    "collapsed": true,
    "pycharm": {
     "name": "#%% md\n"
    }
   },
   "source": [
    "### Import  required packages"
   ]
  },
  {
   "cell_type": "code",
   "execution_count": 1,
   "outputs": [],
   "source": [
    "import pandas as pd\n",
    "import gower\n",
    "import numpy as np\n",
    "from sklearn.cluster import AffinityPropagation\n",
    "from sklearn import metrics"
   ],
   "metadata": {
    "collapsed": false,
    "pycharm": {
     "name": "#%%\n"
    }
   }
  },
  {
   "cell_type": "markdown",
   "source": [
    "### Select required attributes"
   ],
   "metadata": {
    "collapsed": false
   }
  },
  {
   "cell_type": "code",
   "execution_count": 3,
   "outputs": [],
   "source": [
    "columns = ['estimatedp', 'wtr_srcdes', 'wtr_hauled', 'priv_wells', \\\n",
    "               'wc_exists', 'wc_adeq', 'wc_hlth', 'ww_public', 'ppl_nowat_r', 'ppl_noww_r', 'ppl_yeswat_r', 'ppl_yesww_r']"
   ],
   "metadata": {
    "collapsed": false,
    "pycharm": {
     "name": "#%%\n"
    }
   }
  },
  {
   "cell_type": "markdown",
   "source": [
    "### Specify file paths"
   ],
   "metadata": {
    "collapsed": false,
    "pycharm": {
     "name": "#%% md\n"
    }
   }
  },
  {
   "cell_type": "code",
   "source": [
    "colonias_Y_path = 'dataset/colonias_Y_norm.csv'\n",
    "colonias_N_path = 'dataset/colonias_N_norm.csv'"
   ],
   "metadata": {
    "collapsed": false,
    "pycharm": {
     "name": "#%%\n"
    }
   },
   "execution_count": 4,
   "outputs": []
  },
  {
   "cell_type": "markdown",
   "source": [
    "### For Colonias with public water services"
   ],
   "metadata": {
    "collapsed": false,
    "pycharm": {
     "name": "#%% md\n"
    }
   }
  },
  {
   "cell_type": "code",
   "execution_count": 7,
   "outputs": [
    {
     "data": {
      "text/plain": "   estimatedp           wtr_srcdes wtr_hauled priv_wells wc_exists wc_adeq  \\\n0         157  Public Water System          N          N         Y       Y   \n1          72  Public Water System          N          N         Y       Y   \n2         147  Public Water System          N          N         Y       Y   \n3          86  Public Water System          N          N         Y       Y   \n4          41  Public Water System          N          N         Y       Y   \n\n  wc_hlth ww_public  ppl_nowat_r  ppl_noww_r  ppl_yeswat_r  ppl_yesww_r  \n0       N         N          0.0         1.0           1.0          0.0  \n1       N         N          0.0         1.0           1.0          0.0  \n2       N         N          0.0         1.0           1.0          0.0  \n3       N         N          0.0         1.0           1.0          0.0  \n4       N         N          0.0         1.0           1.0          0.0  ",
      "text/html": "<div>\n<style scoped>\n    .dataframe tbody tr th:only-of-type {\n        vertical-align: middle;\n    }\n\n    .dataframe tbody tr th {\n        vertical-align: top;\n    }\n\n    .dataframe thead th {\n        text-align: right;\n    }\n</style>\n<table border=\"1\" class=\"dataframe\">\n  <thead>\n    <tr style=\"text-align: right;\">\n      <th></th>\n      <th>estimatedp</th>\n      <th>wtr_srcdes</th>\n      <th>wtr_hauled</th>\n      <th>priv_wells</th>\n      <th>wc_exists</th>\n      <th>wc_adeq</th>\n      <th>wc_hlth</th>\n      <th>ww_public</th>\n      <th>ppl_nowat_r</th>\n      <th>ppl_noww_r</th>\n      <th>ppl_yeswat_r</th>\n      <th>ppl_yesww_r</th>\n    </tr>\n  </thead>\n  <tbody>\n    <tr>\n      <th>0</th>\n      <td>157</td>\n      <td>Public Water System</td>\n      <td>N</td>\n      <td>N</td>\n      <td>Y</td>\n      <td>Y</td>\n      <td>N</td>\n      <td>N</td>\n      <td>0.0</td>\n      <td>1.0</td>\n      <td>1.0</td>\n      <td>0.0</td>\n    </tr>\n    <tr>\n      <th>1</th>\n      <td>72</td>\n      <td>Public Water System</td>\n      <td>N</td>\n      <td>N</td>\n      <td>Y</td>\n      <td>Y</td>\n      <td>N</td>\n      <td>N</td>\n      <td>0.0</td>\n      <td>1.0</td>\n      <td>1.0</td>\n      <td>0.0</td>\n    </tr>\n    <tr>\n      <th>2</th>\n      <td>147</td>\n      <td>Public Water System</td>\n      <td>N</td>\n      <td>N</td>\n      <td>Y</td>\n      <td>Y</td>\n      <td>N</td>\n      <td>N</td>\n      <td>0.0</td>\n      <td>1.0</td>\n      <td>1.0</td>\n      <td>0.0</td>\n    </tr>\n    <tr>\n      <th>3</th>\n      <td>86</td>\n      <td>Public Water System</td>\n      <td>N</td>\n      <td>N</td>\n      <td>Y</td>\n      <td>Y</td>\n      <td>N</td>\n      <td>N</td>\n      <td>0.0</td>\n      <td>1.0</td>\n      <td>1.0</td>\n      <td>0.0</td>\n    </tr>\n    <tr>\n      <th>4</th>\n      <td>41</td>\n      <td>Public Water System</td>\n      <td>N</td>\n      <td>N</td>\n      <td>Y</td>\n      <td>Y</td>\n      <td>N</td>\n      <td>N</td>\n      <td>0.0</td>\n      <td>1.0</td>\n      <td>1.0</td>\n      <td>0.0</td>\n    </tr>\n  </tbody>\n</table>\n</div>"
     },
     "execution_count": 7,
     "metadata": {},
     "output_type": "execute_result"
    }
   ],
   "source": [
    "# 1. Read corresponding csv file\n",
    "df = pd.read_csv(colonias_Y_path)[columns]\n",
    "df.head()"
   ],
   "metadata": {
    "collapsed": false,
    "pycharm": {
     "name": "#%%\n"
    }
   }
  },
  {
   "cell_type": "code",
   "execution_count": 8,
   "outputs": [],
   "source": [
    "# 2. Select records in which population rate is not larger than 1\n",
    "selected_df = df[(df['ppl_nowat_r'] <= 1) & (df['ppl_noww_r'] <= 1)\n",
    "                 & (df['ppl_yeswat_r'] <= 1) & (df['ppl_yesww_r'] <= 1)]"
   ],
   "metadata": {
    "collapsed": false,
    "pycharm": {
     "name": "#%%\n"
    }
   }
  },
  {
   "cell_type": "code",
   "source": [
    "# 3. Construct Similarity Metric\n",
    "similarity_metric = gower.gower_matrix(selected_df)\n",
    "print(similarity_metric)\n",
    "preference = np.median(similarity_metric)\n",
    "np.fill_diagonal(similarity_metric, preference)\n",
    "similarity_metric *= -1"
   ],
   "metadata": {
    "collapsed": false,
    "pycharm": {
     "name": "#%%\n"
    }
   },
   "execution_count": 9,
   "outputs": [
    {
     "name": "stdout",
     "output_type": "stream",
     "text": [
      "[[0.0000000e+00 2.3611111e-04 2.7777778e-05 ... 7.7777775e-05\n",
      "  2.5289723e-01 3.3532500e-01]\n",
      " [2.3611111e-04 0.0000000e+00 2.0833334e-04 ... 1.5833334e-04\n",
      "  2.5313333e-01 3.3556110e-01]\n",
      " [2.7777778e-05 2.0833334e-04 0.0000000e+00 ... 4.9999999e-05\n",
      "  2.5292501e-01 3.3535278e-01]\n",
      " ...\n",
      " [7.7777775e-05 1.5833334e-04 4.9999999e-05 ... 0.0000000e+00\n",
      "  2.5297499e-01 3.3540279e-01]\n",
      " [2.5289723e-01 2.5313333e-01 2.5292501e-01 ... 2.5297499e-01\n",
      "  0.0000000e+00 8.4238887e-02]\n",
      " [3.3532500e-01 3.3556110e-01 3.3535278e-01 ... 3.3540279e-01\n",
      "  8.4238887e-02 0.0000000e+00]]\n"
     ]
    }
   ]
  },
  {
   "cell_type": "code",
   "execution_count": 10,
   "outputs": [
    {
     "name": "stdout",
     "output_type": "stream",
     "text": [
      "21    860\n",
      "19    857\n",
      "0      45\n",
      "9      29\n",
      "15     20\n",
      "4      17\n",
      "5      16\n",
      "20     13\n",
      "22     12\n",
      "18      9\n",
      "1       9\n",
      "2       8\n",
      "7       7\n",
      "13      7\n",
      "12      5\n",
      "23      5\n",
      "14      4\n",
      "17      4\n",
      "11      4\n",
      "6       4\n",
      "16      1\n",
      "10      1\n",
      "8       1\n",
      "3       1\n",
      "dtype: int64\n",
      "num clusters: 24\n",
      "0.8435476\n"
     ]
    }
   ],
   "source": [
    "\"\"\"\n",
    "Colonias_Y:\n",
    "Best params: Damping= 0.6 , iteration= 300  n_clusters= 24 The average SScore= 0.8435476\n",
    "\"\"\"\n",
    "# 4. Apply Affinity Propagation\n",
    "af = AffinityPropagation(affinity='precomputed', damping = 0.6, max_iter=300).fit(similarity_metric)\n",
    "n_clusters = len(np.unique(af.labels_))\n",
    "cluster_labels = af.labels_\n",
    "print(pd.DataFrame(af.labels_).value_counts())\n",
    "print(\"num clusters:\", n_clusters)\n",
    "print(metrics.silhouette_score(similarity_metric, cluster_labels))\n",
    "\n",
    "with open('dataset/colonias_Y_label.csv', 'w') as f:\n",
    "    for label in cluster_labels:\n",
    "        f.write(str(label) + \"\\n\")\n",
    "f.close()"
   ],
   "metadata": {
    "collapsed": false,
    "pycharm": {
     "name": "#%%\n"
    }
   }
  },
  {
   "cell_type": "markdown",
   "source": [
    "### For Colonias without public water services"
   ],
   "metadata": {
    "collapsed": false
   }
  },
  {
   "cell_type": "code",
   "execution_count": 13,
   "outputs": [
    {
     "data": {
      "text/plain": "   estimatedp     wtr_srcdes wtr_hauled priv_wells wc_exists wc_adeq wc_hlth  \\\n0          67  Private Wells          N          Y         N       N       N   \n1          16  Private Wells          N          Y         N       N       N   \n2          46  Private Wells          N          Y         N       N       N   \n3         181  Private Wells          N          Y         N       N       N   \n4         293  Private Wells          N          Y         N       N       N   \n\n  ww_public  ppl_nowat_r  ppl_noww_r  ppl_yeswat_r  ppl_yesww_r  \n0         N          1.0         1.0           0.0          0.0  \n1         N          1.0         1.0           0.0          0.0  \n2         N          1.0         1.0           0.0          0.0  \n3         N          1.0         1.0           0.0          0.0  \n4         N          1.0         1.0           0.0          0.0  ",
      "text/html": "<div>\n<style scoped>\n    .dataframe tbody tr th:only-of-type {\n        vertical-align: middle;\n    }\n\n    .dataframe tbody tr th {\n        vertical-align: top;\n    }\n\n    .dataframe thead th {\n        text-align: right;\n    }\n</style>\n<table border=\"1\" class=\"dataframe\">\n  <thead>\n    <tr style=\"text-align: right;\">\n      <th></th>\n      <th>estimatedp</th>\n      <th>wtr_srcdes</th>\n      <th>wtr_hauled</th>\n      <th>priv_wells</th>\n      <th>wc_exists</th>\n      <th>wc_adeq</th>\n      <th>wc_hlth</th>\n      <th>ww_public</th>\n      <th>ppl_nowat_r</th>\n      <th>ppl_noww_r</th>\n      <th>ppl_yeswat_r</th>\n      <th>ppl_yesww_r</th>\n    </tr>\n  </thead>\n  <tbody>\n    <tr>\n      <th>0</th>\n      <td>67</td>\n      <td>Private Wells</td>\n      <td>N</td>\n      <td>Y</td>\n      <td>N</td>\n      <td>N</td>\n      <td>N</td>\n      <td>N</td>\n      <td>1.0</td>\n      <td>1.0</td>\n      <td>0.0</td>\n      <td>0.0</td>\n    </tr>\n    <tr>\n      <th>1</th>\n      <td>16</td>\n      <td>Private Wells</td>\n      <td>N</td>\n      <td>Y</td>\n      <td>N</td>\n      <td>N</td>\n      <td>N</td>\n      <td>N</td>\n      <td>1.0</td>\n      <td>1.0</td>\n      <td>0.0</td>\n      <td>0.0</td>\n    </tr>\n    <tr>\n      <th>2</th>\n      <td>46</td>\n      <td>Private Wells</td>\n      <td>N</td>\n      <td>Y</td>\n      <td>N</td>\n      <td>N</td>\n      <td>N</td>\n      <td>N</td>\n      <td>1.0</td>\n      <td>1.0</td>\n      <td>0.0</td>\n      <td>0.0</td>\n    </tr>\n    <tr>\n      <th>3</th>\n      <td>181</td>\n      <td>Private Wells</td>\n      <td>N</td>\n      <td>Y</td>\n      <td>N</td>\n      <td>N</td>\n      <td>N</td>\n      <td>N</td>\n      <td>1.0</td>\n      <td>1.0</td>\n      <td>0.0</td>\n      <td>0.0</td>\n    </tr>\n    <tr>\n      <th>4</th>\n      <td>293</td>\n      <td>Private Wells</td>\n      <td>N</td>\n      <td>Y</td>\n      <td>N</td>\n      <td>N</td>\n      <td>N</td>\n      <td>N</td>\n      <td>1.0</td>\n      <td>1.0</td>\n      <td>0.0</td>\n      <td>0.0</td>\n    </tr>\n  </tbody>\n</table>\n</div>"
     },
     "execution_count": 13,
     "metadata": {},
     "output_type": "execute_result"
    }
   ],
   "source": [
    "# 1. Read corresponding csv file\n",
    "df = pd.read_csv(colonias_N_path)[columns]\n",
    "df.head()"
   ],
   "metadata": {
    "collapsed": false,
    "pycharm": {
     "name": "#%%\n"
    }
   }
  },
  {
   "cell_type": "code",
   "execution_count": 14,
   "outputs": [],
   "source": [
    "# 2. Select records in which population rate is not larger than 1\n",
    "selected_df = df[(df['ppl_nowat_r'] <= 1) & (df['ppl_noww_r'] <= 1)\n",
    "                 & (df['ppl_yeswat_r'] <= 1) & (df['ppl_yesww_r'] <= 1)]"
   ],
   "metadata": {
    "collapsed": false,
    "pycharm": {
     "name": "#%%\n"
    }
   }
  },
  {
   "cell_type": "code",
   "execution_count": 15,
   "outputs": [
    {
     "name": "stdout",
     "output_type": "stream",
     "text": [
      "[[0.0000000e+00 5.0595240e-04 2.0833334e-04 ... 3.3365080e-01\n",
      "  3.3578372e-01 3.3485121e-01]\n",
      " [5.0595240e-04 0.0000000e+00 2.9761906e-04 ... 3.3352181e-01\n",
      "  3.3628967e-01 3.3535713e-01]\n",
      " [2.0833334e-04 2.9761906e-04 0.0000000e+00 ... 3.3344245e-01\n",
      "  3.3599207e-01 3.3505952e-01]\n",
      " ...\n",
      " [3.3365080e-01 3.3352181e-01 3.3344245e-01 ... 0.0000000e+00\n",
      "  2.7678572e-03 1.8353175e-03]\n",
      " [3.3578372e-01 3.3628967e-01 3.3599207e-01 ... 2.7678572e-03\n",
      "  0.0000000e+00 9.3253970e-04]\n",
      " [3.3485121e-01 3.3535713e-01 3.3505952e-01 ... 1.8353175e-03\n",
      "  9.3253970e-04 0.0000000e+00]]\n"
     ]
    }
   ],
   "source": [
    "# 3. Construct Similarity Metric\n",
    "similarity_metric = gower.gower_matrix(selected_df)\n",
    "print(similarity_metric)\n",
    "preference = np.median(similarity_metric)\n",
    "np.fill_diagonal(similarity_metric, preference)\n",
    "similarity_metric *= -1"
   ],
   "metadata": {
    "collapsed": false,
    "pycharm": {
     "name": "#%%\n"
    }
   }
  },
  {
   "cell_type": "code",
   "execution_count": 17,
   "outputs": [
    {
     "name": "stdout",
     "output_type": "stream",
     "text": [
      "1     62\n",
      "0     61\n",
      "10    56\n",
      "7     11\n",
      "2      7\n",
      "6      5\n",
      "5      4\n",
      "8      4\n",
      "3      3\n",
      "9      3\n",
      "4      1\n",
      "dtype: int64\n",
      "num clusters: 11\n",
      "0.6063733\n"
     ]
    }
   ],
   "source": [
    "\"\"\"\n",
    "Colonias_N:\n",
    "Best params: Damping= 0.6 , iteration= 500  n_clusters= 11 The average SScore= 0.6063733\n",
    "\"\"\"\n",
    "# 4. Apply Affinity Propagation\n",
    "af = AffinityPropagation(affinity='precomputed', damping = 0.6, max_iter=500).fit(similarity_metric)\n",
    "n_clusters = len(np.unique(af.labels_))\n",
    "cluster_labels = af.labels_\n",
    "print(pd.DataFrame(af.labels_).value_counts())\n",
    "print(\"num clusters:\", n_clusters)\n",
    "print(metrics.silhouette_score(similarity_metric, cluster_labels))\n",
    "\n",
    "with open('dataset/colonias_N_label.csv', 'w') as f:\n",
    "    for label in cluster_labels:\n",
    "        f.write(str(label) + \"\\n\")\n",
    "f.close()"
   ],
   "metadata": {
    "collapsed": false,
    "pycharm": {
     "name": "#%%\n"
    }
   }
  },
  {
   "cell_type": "code",
   "execution_count": null,
   "outputs": [],
   "source": [],
   "metadata": {
    "collapsed": false,
    "pycharm": {
     "name": "#%%\n"
    }
   }
  }
 ],
 "metadata": {
  "kernelspec": {
   "display_name": "Python 3",
   "language": "python",
   "name": "python3"
  },
  "language_info": {
   "codemirror_mode": {
    "name": "ipython",
    "version": 2
   },
   "file_extension": ".py",
   "mimetype": "text/x-python",
   "name": "python",
   "nbconvert_exporter": "python",
   "pygments_lexer": "ipython2",
   "version": "2.7.6"
  }
 },
 "nbformat": 4,
 "nbformat_minor": 0
}