{
 "cells": [
  {
   "cell_type": "code",
   "execution_count": null,
   "metadata": {
    "tags": []
   },
   "outputs": [],
   "source": [
    "import pandas as pd\n",
    "import gower\n",
    "import numpy as np\n",
    "from sklearn.cluster import AffinityPropagation\n",
    "from sklearn import metrics"
   ]
  },
  {
   "cell_type": "code",
   "execution_count": 2,
   "metadata": {
    "collapsed": false,
    "jupyter": {
     "outputs_hidden": false
    },
    "pycharm": {
     "name": "#%%\n"
    }
   },
   "outputs": [],
   "source": [
    "columns = ['estimatedp', 'wtr_srcdes', 'wtr_hauled', 'priv_wells', \\\n",
    "               'wc_exists', 'wc_adeq', 'wc_hlth', 'ww_public', 'ppl_nowat_r', 'ppl_noww_r', 'ppl_yeswat_r', 'ppl_yesww_r']\n",
    "colonias_Y_path = 'dataset/colonias_Y_norm.csv'\n",
    "colonias_N_path = 'dataset/colonias_N_norm.csv'"
   ]
  },
  {
   "cell_type": "code",
   "execution_count": 3,
   "metadata": {
    "collapsed": false,
    "jupyter": {
     "outputs_hidden": false
    },
    "pycharm": {
     "name": "#%%\n"
    }
   },
   "outputs": [],
   "source": [
    "df = pd.read_csv(colonias_Y_path)[columns]\n",
    "selected_df = df[(df['ppl_nowat_r'] <= 1) & (df['ppl_noww_r'] <= 1)\n",
    "                 & (df['ppl_yeswat_r'] <= 1) & (df['ppl_yesww_r'] <= 1)]\n",
    "\n",
    "similarity_metric = gower.gower_matrix(selected_df)\n",
    "preference = np.median(similarity_metric)\n",
    "np.fill_diagonal(similarity_metric, preference)\n",
    "similarity_metric *= -1"
   ]
  },
  {
   "cell_type": "code",
   "execution_count": 6,
   "metadata": {
    "collapsed": true,
    "jupyter": {
     "outputs_hidden": true
    },
    "pycharm": {
     "name": "#%%\n"
    },
    "tags": []
   },
   "outputs": [
    {
     "name": "stdout",
     "output_type": "stream",
     "text": [
      "21    860\n",
      "19    857\n",
      "0      45\n",
      "9      29\n",
      "15     20\n",
      "4      17\n",
      "5      16\n",
      "20     13\n",
      "22     12\n",
      "18      9\n",
      "1       9\n",
      "2       8\n",
      "7       7\n",
      "13      7\n",
      "12      5\n",
      "23      5\n",
      "14      4\n",
      "17      4\n",
      "11      4\n",
      "6       4\n",
      "16      1\n",
      "10      1\n",
      "8       1\n",
      "3       1\n",
      "dtype: int64\n",
      "num clusters: 24\n",
      "0.8435476\n"
     ]
    }
   ],
   "source": [
    "\"\"\"\n",
    "Colonias_N:\n",
    "Best params: Damping= 0.6 , iteration= 500  n_clusters= 11 The average SScore= 0.6063733\n",
    "\n",
    "Colonias_Y:\n",
    "Best params: Damping= 0.6 , iteration= 300  n_clusters= 24 The average SScore= 0.8435476\n",
    "\"\"\"\n",
    "af = AffinityPropagation(affinity='precomputed', damping = 0.6, max_iter=300).fit(similarity_metric)\n",
    "n_clusters = len(np.unique(af.labels_))\n",
    "cluster_labels = af.labels_\n",
    "print(pd.DataFrame(af.labels_).value_counts())\n",
    "print(\"num clusters:\", n_clusters)\n",
    "print(metrics.silhouette_score(similarity_metric, cluster_labels))\n",
    "\n",
    "with open('dataset/colonias_Y_label.csv', 'w') as f:\n",
    "    for label in cluster_labels:\n",
    "        f.write(str(label) + \"\\n\")\n",
    "f.close()\n"
   ]
  }
 ],
 "metadata": {
  "kernelspec": {
   "display_name": "Python 3",
   "language": "python",
   "name": "python3"
  },
  "language_info": {
   "codemirror_mode": {
    "name": "ipython",
    "version": 3
   },
   "file_extension": ".py",
   "mimetype": "text/x-python",
   "name": "python",
   "nbconvert_exporter": "python",
   "pygments_lexer": "ipython3",
   "version": "3.7.4"
  }
 },
 "nbformat": 4,
 "nbformat_minor": 4
}
